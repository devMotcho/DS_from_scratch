{
 "cells": [
  {
   "cell_type": "markdown",
   "id": "e2f97c58-adae-49a9-88dd-ffe9fed8cbe1",
   "metadata": {},
   "source": [
    "#### Chapter 2 - A crash course in Python"
   ]
  },
  {
   "cell_type": "code",
   "execution_count": 6,
   "id": "d87e5b96-6a26-4925-8809-0578559e6077",
   "metadata": {},
   "outputs": [
    {
     "name": "stdout",
     "output_type": "stream",
     "text": [
      "1\n",
      "1\n",
      "2\n",
      "2\n",
      "3\n",
      "3\n",
      "4\n",
      "4\n",
      "5\n",
      "5\n",
      "6\n",
      "2\n",
      "1\n",
      "3\n",
      "2\n",
      "4\n",
      "3\n",
      "5\n",
      "4\n",
      "6\n",
      "5\n",
      "7\n",
      "3\n",
      "1\n",
      "4\n",
      "2\n",
      "5\n",
      "3\n",
      "6\n",
      "4\n",
      "7\n",
      "5\n",
      "8\n",
      "4\n",
      "1\n",
      "5\n",
      "2\n",
      "6\n",
      "3\n",
      "7\n",
      "4\n",
      "8\n",
      "5\n",
      "9\n",
      "5\n",
      "1\n",
      "6\n",
      "2\n",
      "7\n",
      "3\n",
      "8\n",
      "4\n",
      "9\n",
      "5\n",
      "10\n",
      "done looping\n",
      "5\n"
     ]
    }
   ],
   "source": [
    "#### Whitespace Formatting\n",
    "# Python uses indentation:\n",
    "\n",
    "for i in [1, 2, 3, 4, 5]:\n",
    "    print (i)\n",
    "    for j in [1, 2, 3, 4, 5]:\n",
    "        print (j)\n",
    "        print(i + j)\n",
    "print('done looping')\n",
    "# whitespaces is ignored inside parentheses and brackets\n",
    "# use backslash statements continue onto the next line\n",
    "two_plus_three = 2 + \\\n",
    "                3\n",
    "print(two_plus_three)"
   ]
  },
  {
   "cell_type": "code",
   "execution_count": 8,
   "id": "c1f74bdf-f07e-411c-ace8-4d791b91e0e6",
   "metadata": {},
   "outputs": [],
   "source": [
    "import re\n",
    "my_regex = re.compile('[0-9]+', re.I)\n",
    "# re é usada para operações para correspondência de expressões regulares\n",
    "# use alias:\n",
    "import re as regex\n",
    "my_regex = regex.compile('[0-9]+', regex.I)"
   ]
  },
  {
   "cell_type": "code",
   "execution_count": null,
   "id": "78f22233-83be-4604-9c0d-a84f43a54897",
   "metadata": {},
   "outputs": [],
   "source": [
    "# para visualização de dados:\n",
    "import matplotlib.pyplot as plt\n",
    "# se for necessario alguns especificos valores de um modelo, pode-se explicitar\n",
    "from collections import defaultdict, Counter\n",
    "lookup = defaultdict(int)\n",
    "my_counter = Counter()\n"
   ]
  },
  {
   "cell_type": "code",
   "execution_count": 9,
   "id": "e84b2bc2-4f88-494f-816e-2dcd5ad8010e",
   "metadata": {},
   "outputs": [
    {
     "name": "stdout",
     "output_type": "stream",
     "text": [
      "<function match at 0x0000019D70AB76D0>\n"
     ]
    }
   ],
   "source": [
    "# Não se deve importar o modulo completo, pois pode rescrever variaveis\n",
    "match = 10\n",
    "from re import *\n",
    "print(match)"
   ]
  },
  {
   "cell_type": "markdown",
   "id": "74a81d53-24fb-406c-be74-7b232f42f8f4",
   "metadata": {},
   "source": [
    "#### Arithmetic"
   ]
  },
  {
   "cell_type": "code",
   "execution_count": 10,
   "id": "a8141569-2cb8-4a32-a85b-e52d8a246a11",
   "metadata": {},
   "outputs": [
    {
     "data": {
      "text/plain": [
       "2.5"
      ]
     },
     "execution_count": 10,
     "metadata": {},
     "output_type": "execute_result"
    }
   ],
   "source": [
    "# default do Python arredonda para baixo, devemos entao usar:\n",
    "from __future__ import division\n",
    "# // -> int division"
   ]
  },
  {
   "cell_type": "markdown",
   "id": "342792e2-275a-4f6b-a0d1-bab3910c4166",
   "metadata": {},
   "source": [
    "#### Functions"
   ]
  },
  {
   "cell_type": "code",
   "execution_count": 11,
   "id": "18cb46d8-3ff5-49e7-8ade-1bbdf1be5cea",
   "metadata": {},
   "outputs": [
    {
     "data": {
      "text/plain": [
       "10"
      ]
     },
     "execution_count": 11,
     "metadata": {},
     "output_type": "execute_result"
    }
   ],
   "source": [
    "# Uma função é uma regra que leva 0 ou + inputs e retorna o correspondente output.\n",
    "\n",
    "def double(x):\n",
    "    \"\"\"\n",
    "    Aqui coloca-se a docstring a explicar o que a função faz\n",
    "    por exemplo, esta função multiplica o input por 2\n",
    "    \"\"\"\n",
    "    return x * 2\n",
    "\n",
    "double(5)"
   ]
  },
  {
   "cell_type": "code",
   "execution_count": 13,
   "id": "c5ccce3b-6005-483c-ade6-746b82662456",
   "metadata": {},
   "outputs": [
    {
     "name": "stdout",
     "output_type": "stream",
     "text": [
      "2\n"
     ]
    }
   ],
   "source": [
    "# As funções em Python são de primeira-clase,\n",
    "# o que quer dizer que podedmos atribuir-las a variaveis\n",
    "# e passa-las em outras funções como argumentos\n",
    "\n",
    "def apply_to_one(f):\n",
    "    \"\"\"\n",
    "    Chama a função f com 1 como argumento\n",
    "    \"\"\"\n",
    "    return f(1)\n",
    "\n",
    "my_double = double\n",
    "x = apply_to_one(my_double)\n",
    "print(x)"
   ]
  },
  {
   "cell_type": "code",
   "execution_count": 14,
   "id": "a2910cfe-8459-4ed3-ad9f-9605b66947cb",
   "metadata": {},
   "outputs": [
    {
     "name": "stdout",
     "output_type": "stream",
     "text": [
      "5\n"
     ]
    }
   ],
   "source": [
    "# É tambem possivel criar pequenas funções anónimas, os lambdas:\n",
    "y = apply_to_one(lambda x: x + 4)\n",
    "print(y)"
   ]
  },
  {
   "cell_type": "code",
   "execution_count": null,
   "id": "6cd0419e-c94f-429e-ac21-b63db8df8da9",
   "metadata": {},
   "outputs": [],
   "source": [
    "# Posso tambem atribuir lambdas a variaveis:\n",
    "another_double = lambda x: 2 * x # don't do this\n",
    "def another_double(x): return 2 * x # do this instead"
   ]
  },
  {
   "cell_type": "code",
   "execution_count": 17,
   "id": "88f3bf8c-adf8-4737-a106-543268577dbf",
   "metadata": {},
   "outputs": [
    {
     "name": "stdout",
     "output_type": "stream",
     "text": [
      "my default message\n",
      "Hello World!\n"
     ]
    }
   ],
   "source": [
    "# Posso dar argumentos de default, que serão substituidos facilmente:\n",
    "def my_print(message='my default message'):\n",
    "    print(message)\n",
    "\n",
    "my_print()\n",
    "my_print('Hello World!')"
   ]
  },
  {
   "cell_type": "code",
   "execution_count": 22,
   "id": "c2ce11a3-beaf-499b-a715-c25f6b680015",
   "metadata": {},
   "outputs": [
    {
     "data": {
      "text/plain": [
       "-5"
      ]
     },
     "execution_count": 22,
     "metadata": {},
     "output_type": "execute_result"
    }
   ],
   "source": [
    "# Por vezes, é util especificar os argumentos pelo nome\n",
    "def subtract(a=0, b=0):\n",
    "    return a - b\n",
    "\n",
    "subtract(10, 5) # return 5\n",
    "subtract(0, 5) # return -5\n",
    "subtract(b = 5) # igual à anterior"
   ]
  },
  {
   "cell_type": "markdown",
   "id": "e6a89c85-fb4e-4b93-b19e-593f115212ba",
   "metadata": {},
   "source": [
    "#### Strings"
   ]
  },
  {
   "cell_type": "code",
   "execution_count": 23,
   "id": "67f85b88-5156-4b4d-b1fe-da748cd0661d",
   "metadata": {},
   "outputs": [],
   "source": [
    "single_quoted = 'data science'\n",
    "double_quouted = \"data science\"\n",
    "# backslashes para encode caracteres especiais.\n",
    "tab_string = '/t' # tab\n",
    "len(tab_string) # 1\n"
   ]
  },
  {
   "cell_type": "markdown",
   "id": "be178fef-ded2-40a8-99ba-0ed35f18867b",
   "metadata": {},
   "source": [
    "#### Exceptions"
   ]
  },
  {
   "cell_type": "code",
   "execution_count": null,
   "id": "0e99f15a-7242-4e21-b58d-86ada178d428",
   "metadata": {},
   "outputs": [],
   "source": [
    "# Quando alguma coisa pode correr mal utilizamos a expressão try and expect:\n",
    "try:\n",
    "    print (0 / 0)\n",
    "except ZeroDivisionError:\n",
    "    print('cannot divide by zero')"
   ]
  },
  {
   "cell_type": "markdown",
   "id": "01ae1e4d-aba5-41f7-aec5-a4e5c7c2fed5",
   "metadata": {},
   "source": [
    "#### Lists"
   ]
  },
  {
   "cell_type": "code",
   "execution_count": null,
   "id": "1c6d6f4e-b14b-49fa-9f8a-7a1d005b8df8",
   "metadata": {},
   "outputs": [],
   "source": [
    "int_list = [1, 2, 3]\n",
    "heterogeneous_list = ['string', 0.1, True]\n",
    "list_of_lists = [ int_list, heterogeneous_list, [] ]\n",
    "\n",
    "list_length = len(int_list) # tamanho\n",
    "list_sum = sum(int_list) # soma\n",
    "# index\n",
    "x = range(10) # lista de 0 a 9\n",
    "zero = x[0] # index 0 valor 0\n",
    "last = z[-1] # ultimo valor da lista\n",
    "\n",
    "# slice lists\n",
    "first_three = x[:3] # [0,1,2]\n",
    "three_to_end = x[3:] #[3,4,...9]\n",
    "copy_of_x = x[:]\n",
    "\n",
    "# in - boolean verifica uma afirmação\n",
    "1 in [1,2,3] # True\n",
    "0 in [1,2,3] # False\n",
    "\n",
    "# concatenar listas - MODIFICA LISTA ORIGINAL\n",
    "x = [1,2,3]\n",
    "x.extends([4,5,6])\n",
    "# se nao quiser modificar a lista original pode-se +\n",
    "x = [1,2,3]\n",
    "y = x + [4,5,6]\n",
    "# Append - adiciona ao final da lista o valor passado\n",
    "x = [1,2,3]\n",
    "x.append(0)\n",
    "\n",
    "# Unpack - porem tem que ter o mesmo numero de elementos de ambos os lados\n",
    "x, y = [1,2] # x=1, y=2\n",
    "\n",
    "# utiliza-se _, quando não vamos usar um valor:\n",
    "_, y = [1,2] # y == 2, o outro elemento nao interessava\n"
   ]
  },
  {
   "cell_type": "markdown",
   "id": "b7239370-5ee7-4ed7-b190-c84a865e4a69",
   "metadata": {},
   "source": [
    "#### Tuples"
   ]
  },
  {
   "cell_type": "code",
   "execution_count": null,
   "id": "c9cb4b28-a7ee-47ff-8870-d8073fe09100",
   "metadata": {},
   "outputs": [],
   "source": [
    "# Tuples são IMMUTAVEIS, enquanto as listas sao MUTAVEIS\n",
    "my_list = [1,2]\n",
    "my_tuple = (1,2)\n",
    "other_tuple = 3, 4\n",
    "my_list[1] = 3 # [1,3]\n",
    "\n",
    "try:\n",
    "    my_typle[1] = 3\n",
    "except TypeError:\n",
    "    print('connot modify a tuple')\n",
    "\n",
    "# tuples, são uma forma conveniente de return varios valores de uma dada função\n",
    "def sum_and_product(x,y):\n",
    "    return(x + y),(x * y)\n",
    "\n",
    "sp = sum_and_product(2,3) # (5, 6)\n",
    "s, p = sum_and_product(5,10) # s is 15, p is 50\n",
    "\n",
    "# TUPLES e LISTAS podem ser usadas para multiplas atribuições:\n",
    "x, y = 1, 2\n",
    "x, y = y, x # trocar variaveis\n"
   ]
  },
  {
   "cell_type": "markdown",
   "id": "8dc91245-accb-494e-a36e-f0b01cd46f8d",
   "metadata": {},
   "source": [
    "#### Dictionaries"
   ]
  },
  {
   "cell_type": "code",
   "execution_count": null,
   "id": "5bf6f5bc-73e5-4689-b588-ee9a29c6a29f",
   "metadata": {},
   "outputs": [],
   "source": [
    "# Associa values com keys\n",
    "empty_dict = {}\n",
    "empty_dict2 = dict()\n",
    "grades = {'Joel':80, 'Tim':95 }\n",
    "\n",
    "joels_grades = grades['Joel'] # 80\n",
    "try:\n",
    "    kates_grades = grades['Kate']\n",
    "except KeyError:\n",
    "    print('no grades for Kate!')\n",
    "\n",
    "# Verificar a existencia de uma key\n",
    "joel_has_grades = 'Joel' in grades #True\n",
    "kate_has_grades = 'Kate' in grades #False\n",
    "\n",
    "# Tem um metodo get que retorna o value de uma dada key\n",
    "joel_grades = grades.get('Joel', 0) # igual a 80\n",
    "kate_grades = grades.get('Kate', 0) # igual a 0\n",
    "no_ones_grade = grades.get('No One') # default é None\n",
    "\n",
    "# Atribuir values a uma dada key\n",
    "grades['Tim'] = 99 # substitui o antigo valor com 99\n",
    "grades['Kate'] = 100 # adiciona uma nova entrada\n",
    "num_students = len(grades) # 3\n",
    "\n",
    "# dictionaries são uma forma de representar dados estruturados\n",
    "\n",
    "tweet = {\n",
    "    'user':'joelgrus',\n",
    "    'text':'Data Science is Awesome',\n",
    "    'retweet_count': 100,\n",
    "    'hashtags':['#data','#science','#datascience','#awesome','#yolo',]\n",
    "}\n",
    "tweet_keys = tweet.keys() # list of keys\n",
    "tweet_values = tweet.values() # list of values\n",
    "tweet_items = tweet.items() # list of (key, value) tuples\n",
    "\n",
    "\"user\" in tweet_keys # True, lento\n",
    "\"user\" in tweet # True, mais rapido pois dics sao mais rapidos que listas\n",
    "\"joelgrus\" in tweet_values # True\n",
    "\n",
    "# Dicts keys são IMUTAVEIS, nao podemos usar listas como keys apenas como values.\n",
    "# Mas podemos usar tuple como keys\n",
    "\n"
   ]
  },
  {
   "cell_type": "markdown",
   "id": "c070c13a-6e7a-4d46-a937-7f986274c054",
   "metadata": {},
   "source": [
    "#### defaultdict"
   ]
  },
  {
   "cell_type": "code",
   "execution_count": null,
   "id": "881bef60-8b02-4f69-8dbb-d4e89fc0e19f",
   "metadata": {},
   "outputs": [],
   "source": [
    "# Contar palavras num documento\n",
    "word_counts = {} # dict vazio para colocar key que sao as palavras e um contador para da palavra\n",
    "for word in document: # corre cada palavra do documento\n",
    "    if word in word_counts: # se a palvra está no contador\n",
    "        word_counts[word] += 1 # adicionar 1 ao valor da key\n",
    "    else: # senão estiver\n",
    "        word_counts[word] = 1 # criar uma key com a nova palavra e coloca-la com o valor 1\n",
    "\n",
    "# com try, except\n",
    "word_counts = {}\n",
    "for word in document:\n",
    "    try:\n",
    "        word_counts[word] += 1\n",
    "    except KeyError:\n",
    "        word_counts[word] = 1\n",
    "\n",
    "# 3 forma\n",
    "word_counts = {}\n",
    "for word in document:\n",
    "    previous_count = word_counts.get(word, 0) # retira o valor de uma key e armazena-o na variavel\n",
    "    word_counts[word] = previous_count + 1 # adiciona 1 ao valor antigo\n",
    "\n",
    "### defaultdict é como um dict normal, porém quando se tenta procurar uma key\n",
    "### que não contem, primeiro adiciona o valor para esta com uma função zero-argument\n",
    "### que é dada quando criada\n",
    "from collections import defaultdict\n",
    "\n",
    "word_counts = defaultdict(int)\n",
    "for word in document:\n",
    "    word_counts[word] += 1 #se não houver uma dada palavra é criada uma key com a palavra com o valor de 0 e adiciona 1 a cada ocorrencia\n",
    "    \n",
    "\n",
    "# são usadas normalmente\n",
    "dd_list = defaultdict(list) # list() cria uma lista vazia\n",
    "dd_list[2].append(1) # {2:[1]}\n",
    "\n",
    "dd_dict = defaultdict(dict)\n",
    "dd_dict['Joel']['City'] = 'Seattle' #{'Joel' : {'City':Seattle'}}\n",
    "\n",
    "dd_pair = defaultdict(lamda: [0,0])\n",
    "dd_pair[2][1] = 1 # {2: [0,1]}"
   ]
  },
  {
   "cell_type": "markdown",
   "id": "ec69c126-3a9c-4cd8-a968-c5e69e62598e",
   "metadata": {},
   "source": [
    "#### Counter"
   ]
  },
  {
   "cell_type": "code",
   "execution_count": null,
   "id": "ae41d517-71b1-40e9-8ecf-0ecfdcee83e9",
   "metadata": {},
   "outputs": [],
   "source": []
  },
  {
   "cell_type": "code",
   "execution_count": null,
   "id": "bf65c06a-a60a-4e32-8ab1-70b3ccf2d25c",
   "metadata": {},
   "outputs": [],
   "source": []
  }
 ],
 "metadata": {
  "kernelspec": {
   "display_name": "Python 3 (ipykernel)",
   "language": "python",
   "name": "python3"
  },
  "language_info": {
   "codemirror_mode": {
    "name": "ipython",
    "version": 3
   },
   "file_extension": ".py",
   "mimetype": "text/x-python",
   "name": "python",
   "nbconvert_exporter": "python",
   "pygments_lexer": "ipython3",
   "version": "3.10.11"
  }
 },
 "nbformat": 4,
 "nbformat_minor": 5
}
