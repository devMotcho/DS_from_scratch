{
 "cells": [
  {
   "cell_type": "markdown",
   "id": "e2f97c58-adae-49a9-88dd-ffe9fed8cbe1",
   "metadata": {},
   "source": [
    "#### Chapter 2 - A crash course in Python"
   ]
  },
  {
   "cell_type": "code",
   "execution_count": 6,
   "id": "d87e5b96-6a26-4925-8809-0578559e6077",
   "metadata": {},
   "outputs": [
    {
     "name": "stdout",
     "output_type": "stream",
     "text": [
      "1\n",
      "1\n",
      "2\n",
      "2\n",
      "3\n",
      "3\n",
      "4\n",
      "4\n",
      "5\n",
      "5\n",
      "6\n",
      "2\n",
      "1\n",
      "3\n",
      "2\n",
      "4\n",
      "3\n",
      "5\n",
      "4\n",
      "6\n",
      "5\n",
      "7\n",
      "3\n",
      "1\n",
      "4\n",
      "2\n",
      "5\n",
      "3\n",
      "6\n",
      "4\n",
      "7\n",
      "5\n",
      "8\n",
      "4\n",
      "1\n",
      "5\n",
      "2\n",
      "6\n",
      "3\n",
      "7\n",
      "4\n",
      "8\n",
      "5\n",
      "9\n",
      "5\n",
      "1\n",
      "6\n",
      "2\n",
      "7\n",
      "3\n",
      "8\n",
      "4\n",
      "9\n",
      "5\n",
      "10\n",
      "done looping\n",
      "5\n"
     ]
    }
   ],
   "source": [
    "#### Whitespace Formatting\n",
    "# Python uses indentation:\n",
    "\n",
    "for i in [1, 2, 3, 4, 5]:\n",
    "    print (i)\n",
    "    for j in [1, 2, 3, 4, 5]:\n",
    "        print (j)\n",
    "        print(i + j)\n",
    "print('done looping')\n",
    "# whitespaces is ignored inside parentheses and brackets\n",
    "# use backslash statements continue onto the next line\n",
    "two_plus_three = 2 + \\\n",
    "                3\n",
    "print(two_plus_three)"
   ]
  },
  {
   "cell_type": "code",
   "execution_count": 8,
   "id": "c1f74bdf-f07e-411c-ace8-4d791b91e0e6",
   "metadata": {},
   "outputs": [],
   "source": [
    "import re\n",
    "my_regex = re.compile('[0-9]+', re.I)\n",
    "# re é usada para operações para correspondência de expressões regulares\n",
    "# use alias:\n",
    "import re as regex\n",
    "my_regex = regex.compile('[0-9]+', regex.I)"
   ]
  },
  {
   "cell_type": "code",
   "execution_count": null,
   "id": "78f22233-83be-4604-9c0d-a84f43a54897",
   "metadata": {},
   "outputs": [],
   "source": [
    "# para visualização de dados:\n",
    "import matplotlib.pyplot as plt\n",
    "# se for necessario alguns especificos valores de um modelo, pode-se explicitar\n",
    "from collections import defaultdict, Counter\n",
    "lookup = defaultdict(int)\n",
    "my_counter = Counter()\n"
   ]
  },
  {
   "cell_type": "code",
   "execution_count": 9,
   "id": "e84b2bc2-4f88-494f-816e-2dcd5ad8010e",
   "metadata": {},
   "outputs": [
    {
     "name": "stdout",
     "output_type": "stream",
     "text": [
      "<function match at 0x0000019D70AB76D0>\n"
     ]
    }
   ],
   "source": [
    "# Não se deve importar o modulo completo, pois pode rescrever variaveis\n",
    "match = 10\n",
    "from re import *\n",
    "print(match)"
   ]
  },
  {
   "cell_type": "markdown",
   "id": "74a81d53-24fb-406c-be74-7b232f42f8f4",
   "metadata": {},
   "source": [
    "#### Arithmetic"
   ]
  },
  {
   "cell_type": "code",
   "execution_count": 10,
   "id": "a8141569-2cb8-4a32-a85b-e52d8a246a11",
   "metadata": {},
   "outputs": [
    {
     "data": {
      "text/plain": [
       "2.5"
      ]
     },
     "execution_count": 10,
     "metadata": {},
     "output_type": "execute_result"
    }
   ],
   "source": [
    "# default do Python arredonda para baixo, devemos entao usar:\n",
    "from __future__ import division\n",
    "# // -> int division"
   ]
  },
  {
   "cell_type": "markdown",
   "id": "342792e2-275a-4f6b-a0d1-bab3910c4166",
   "metadata": {},
   "source": [
    "#### Functions"
   ]
  },
  {
   "cell_type": "code",
   "execution_count": 11,
   "id": "18cb46d8-3ff5-49e7-8ade-1bbdf1be5cea",
   "metadata": {},
   "outputs": [
    {
     "data": {
      "text/plain": [
       "10"
      ]
     },
     "execution_count": 11,
     "metadata": {},
     "output_type": "execute_result"
    }
   ],
   "source": [
    "# Uma função é uma regra que leva 0 ou + inputs e retorna o correspondente output.\n",
    "\n",
    "def double(x):\n",
    "    \"\"\"\n",
    "    Aqui coloca-se a docstring a explicar o que a função faz\n",
    "    por exemplo, esta função multiplica o input por 2\n",
    "    \"\"\"\n",
    "    return x * 2\n",
    "\n",
    "double(5)"
   ]
  },
  {
   "cell_type": "code",
   "execution_count": 13,
   "id": "c5ccce3b-6005-483c-ade6-746b82662456",
   "metadata": {},
   "outputs": [
    {
     "name": "stdout",
     "output_type": "stream",
     "text": [
      "2\n"
     ]
    }
   ],
   "source": [
    "# As funções em Python são de primeira-clase,\n",
    "# o que quer dizer que podedmos atribuir-las a variaveis\n",
    "# e passa-las em outras funções como argumentos\n",
    "\n",
    "def apply_to_one(f):\n",
    "    \"\"\"\n",
    "    Chama a função f com 1 como argumento\n",
    "    \"\"\"\n",
    "    return f(1)\n",
    "\n",
    "my_double = double\n",
    "x = apply_to_one(my_double)\n",
    "print(x)"
   ]
  },
  {
   "cell_type": "code",
   "execution_count": 14,
   "id": "a2910cfe-8459-4ed3-ad9f-9605b66947cb",
   "metadata": {},
   "outputs": [
    {
     "name": "stdout",
     "output_type": "stream",
     "text": [
      "5\n"
     ]
    }
   ],
   "source": [
    "# É tambem possivel criar pequenas funções anónimas, os lambdas:\n",
    "y = apply_to_one(lambda x: x + 4)\n",
    "print(y)"
   ]
  },
  {
   "cell_type": "code",
   "execution_count": null,
   "id": "6cd0419e-c94f-429e-ac21-b63db8df8da9",
   "metadata": {},
   "outputs": [],
   "source": [
    "# Posso tambem atribuir lambdas a variaveis:\n",
    "another_double = lambda x: 2 * x # don't do this\n",
    "def another_double(x): return 2 * x # do this instead"
   ]
  },
  {
   "cell_type": "code",
   "execution_count": 17,
   "id": "88f3bf8c-adf8-4737-a106-543268577dbf",
   "metadata": {},
   "outputs": [
    {
     "name": "stdout",
     "output_type": "stream",
     "text": [
      "my default message\n",
      "Hello World!\n"
     ]
    }
   ],
   "source": [
    "# Posso dar argumentos de default, que serão substituidos facilmente:\n",
    "def my_print(message='my default message'):\n",
    "    print(message)\n",
    "\n",
    "my_print()\n",
    "my_print('Hello World!')"
   ]
  },
  {
   "cell_type": "code",
   "execution_count": 22,
   "id": "c2ce11a3-beaf-499b-a715-c25f6b680015",
   "metadata": {},
   "outputs": [
    {
     "data": {
      "text/plain": [
       "-5"
      ]
     },
     "execution_count": 22,
     "metadata": {},
     "output_type": "execute_result"
    }
   ],
   "source": [
    "# Por vezes, é util especificar os argumentos pelo nome\n",
    "def subtract(a=0, b=0):\n",
    "    return a - b\n",
    "\n",
    "subtract(10, 5) # return 5\n",
    "subtract(0, 5) # return -5\n",
    "subtract(b = 5) # igual à anterior"
   ]
  },
  {
   "cell_type": "markdown",
   "id": "e6a89c85-fb4e-4b93-b19e-593f115212ba",
   "metadata": {},
   "source": [
    "#### Strings"
   ]
  },
  {
   "cell_type": "code",
   "execution_count": 23,
   "id": "67f85b88-5156-4b4d-b1fe-da748cd0661d",
   "metadata": {},
   "outputs": [],
   "source": [
    "single_quoted = 'data science'\n",
    "double_quouted = \"data science\"\n",
    "# backslashes para encode caracteres especiais.\n",
    "tab_string = '/t' # tab\n",
    "len(tab_string) # 1\n"
   ]
  },
  {
   "cell_type": "markdown",
   "id": "be178fef-ded2-40a8-99ba-0ed35f18867b",
   "metadata": {},
   "source": [
    "#### Exceptions"
   ]
  },
  {
   "cell_type": "code",
   "execution_count": null,
   "id": "0e99f15a-7242-4e21-b58d-86ada178d428",
   "metadata": {},
   "outputs": [],
   "source": [
    "# Quando alguma coisa pode correr mal utilizamos a expressão try and expect:\n",
    "try:\n",
    "    print (0 / 0)\n",
    "except ZeroDivisionError:\n",
    "    print('cannot divide by zero')"
   ]
  },
  {
   "cell_type": "markdown",
   "id": "01ae1e4d-aba5-41f7-aec5-a4e5c7c2fed5",
   "metadata": {},
   "source": [
    "#### Lists"
   ]
  },
  {
   "cell_type": "code",
   "execution_count": null,
   "id": "1c6d6f4e-b14b-49fa-9f8a-7a1d005b8df8",
   "metadata": {},
   "outputs": [],
   "source": [
    "int_list = [1, 2, 3]\n",
    "heterogeneous_list = ['string', 0.1, True]\n",
    "list_of_lists = [ int_list, heterogeneous_list, [] ]\n",
    "\n",
    "list_length = len(int_list) # tamanho\n",
    "list_sum = sum(int_list) # soma\n",
    "# index\n",
    "x = range(10) # lista de 0 a 9\n",
    "zero = x[0] # index 0 valor 0\n",
    "last = z[-1] # ultimo valor da lista\n",
    "\n",
    "# slice lists\n",
    "first_three = x[:3] # [0,1,2]\n",
    "three_to_end = x[3:] #[3,4,...9]\n",
    "copy_of_x = x[:]\n",
    "\n",
    "# in - boolean verifica uma afirmação\n",
    "1 in [1,2,3] # True\n",
    "0 in [1,2,3] # False\n",
    "\n",
    "# concatenar listas - MODIFICA LISTA ORIGINAL\n",
    "x = [1,2,3]\n",
    "x.extends([4,5,6])\n",
    "# se nao quiser modificar a lista original pode-se +\n",
    "x = [1,2,3]\n",
    "y = x + [4,5,6]\n",
    "# Append - adiciona ao final da lista o valor passado\n",
    "x = [1,2,3]\n",
    "x.append(0)\n",
    "\n",
    "# Unpack - porem tem que ter o mesmo numero de elementos de ambos os lados\n",
    "x, y = [1,2] # x=1, y=2\n",
    "\n",
    "# utiliza-se _, quando não vamos usar um valor:\n",
    "_, y = [1,2] # y == 2, o outro elemento nao interessava\n"
   ]
  },
  {
   "cell_type": "markdown",
   "id": "b7239370-5ee7-4ed7-b190-c84a865e4a69",
   "metadata": {},
   "source": [
    "#### Tuples"
   ]
  },
  {
   "cell_type": "code",
   "execution_count": null,
   "id": "c9cb4b28-a7ee-47ff-8870-d8073fe09100",
   "metadata": {},
   "outputs": [],
   "source": [
    "# Tuples são IMMUTAVEIS, enquanto as listas sao MUTAVEIS\n",
    "my_list = [1,2]\n",
    "my_tuple = (1,2)\n",
    "other_tuple = 3, 4\n",
    "my_list[1] = 3 # [1,3]\n",
    "\n",
    "try:\n",
    "    my_typle[1] = 3\n",
    "except TypeError:\n",
    "    print('connot modify a tuple')\n",
    "\n",
    "# tuples, são uma forma conveniente de return varios valores de uma dada função\n",
    "def sum_and_product(x,y):\n",
    "    return(x + y),(x * y)\n",
    "\n",
    "sp = sum_and_product(2,3) # (5, 6)\n",
    "s, p = sum_and_product(5,10) # s is 15, p is 50\n",
    "\n",
    "# TUPLES e LISTAS podem ser usadas para multiplas atribuições:\n",
    "x, y = 1, 2\n",
    "x, y = y, x # trocar variaveis\n"
   ]
  },
  {
   "cell_type": "markdown",
   "id": "8dc91245-accb-494e-a36e-f0b01cd46f8d",
   "metadata": {},
   "source": [
    "#### Dictionaries"
   ]
  },
  {
   "cell_type": "code",
   "execution_count": null,
   "id": "5bf6f5bc-73e5-4689-b588-ee9a29c6a29f",
   "metadata": {},
   "outputs": [],
   "source": [
    "# Associa values com keys\n",
    "empty_dict = {}\n",
    "empty_dict2 = dict()\n",
    "grades = {'Joel':80, 'Tim':95 }\n",
    "\n",
    "joels_grades = grades['Joel'] # 80\n",
    "try:\n",
    "    kates_grades = grades['Kate']\n",
    "except KeyError:\n",
    "    print('no grades for Kate!')\n",
    "\n",
    "# Verificar a existencia de uma key\n",
    "joel_has_grades = 'Joel' in grades #True\n",
    "kate_has_grades = 'Kate' in grades #False\n",
    "\n",
    "# Tem um metodo get que retorna o value de uma dada key\n",
    "joel_grades = grades.get('Joel', 0) # igual a 80\n",
    "kate_grades = grades.get('Kate', 0) # igual a 0\n",
    "no_ones_grade = grades.get('No One') # default é None\n",
    "\n",
    "# Atribuir values a uma dada key\n",
    "grades['Tim'] = 99 # substitui o antigo valor com 99\n",
    "grades['Kate'] = 100 # adiciona uma nova entrada\n",
    "num_students = len(grades) # 3\n",
    "\n",
    "# dictionaries são uma forma de representar dados estruturados\n",
    "\n",
    "tweet = {\n",
    "    'user':'joelgrus',\n",
    "    'text':'Data Science is Awesome',\n",
    "    'retweet_count': 100,\n",
    "    'hashtags':['#data','#science','#datascience','#awesome','#yolo',]\n",
    "}\n",
    "tweet_keys = tweet.keys() # list of keys\n",
    "tweet_values = tweet.values() # list of values\n",
    "tweet_items = tweet.items() # list of (key, value) tuples\n",
    "\n",
    "\"user\" in tweet_keys # True, lento\n",
    "\"user\" in tweet # True, mais rapido pois dics sao mais rapidos que listas\n",
    "\"joelgrus\" in tweet_values # True\n",
    "\n",
    "# Dicts keys são IMUTAVEIS, nao podemos usar listas como keys apenas como values.\n",
    "# Mas podemos usar tuple como keys\n",
    "\n"
   ]
  },
  {
   "cell_type": "markdown",
   "id": "c070c13a-6e7a-4d46-a937-7f986274c054",
   "metadata": {},
   "source": [
    "#### defaultdict"
   ]
  },
  {
   "cell_type": "code",
   "execution_count": null,
   "id": "881bef60-8b02-4f69-8dbb-d4e89fc0e19f",
   "metadata": {},
   "outputs": [],
   "source": [
    "# Contar palavras num documento\n",
    "word_counts = {} # dict vazio para colocar key que sao as palavras e um contador para da palavra\n",
    "for word in document: # corre cada palavra do documento\n",
    "    if word in word_counts: # se a palvra está no contador\n",
    "        word_counts[word] += 1 # adicionar 1 ao valor da key\n",
    "    else: # senão estiver\n",
    "        word_counts[word] = 1 # criar uma key com a nova palavra e coloca-la com o valor 1\n",
    "\n",
    "# com try, except\n",
    "word_counts = {}\n",
    "for word in document:\n",
    "    try:\n",
    "        word_counts[word] += 1\n",
    "    except KeyError:\n",
    "        word_counts[word] = 1\n",
    "\n",
    "# 3 forma\n",
    "word_counts = {}\n",
    "for word in document:\n",
    "    previous_count = word_counts.get(word, 0) # retira o valor de uma key e armazena-o na variavel\n",
    "    word_counts[word] = previous_count + 1 # adiciona 1 ao valor antigo\n",
    "\n",
    "### defaultdict é como um dict normal, porém quando se tenta procurar uma key\n",
    "### que não contem, primeiro adiciona o valor para esta com uma função zero-argument\n",
    "### que é dada quando criada\n",
    "from collections import defaultdict\n",
    "\n",
    "word_counts = defaultdict(int)\n",
    "for word in document:\n",
    "    word_counts[word] += 1 #se não houver uma dada palavra é criada uma key com a palavra com o valor de 0 e adiciona 1 a cada ocorrencia\n",
    "    \n",
    "\n",
    "# são usadas normalmente\n",
    "dd_list = defaultdict(list) # list() cria uma lista vazia\n",
    "dd_list[2].append(1) # {2:[1]}\n",
    "\n",
    "dd_dict = defaultdict(dict)\n",
    "dd_dict['Joel']['City'] = 'Seattle' #{'Joel' : {'City':Seattle'}}\n",
    "\n",
    "dd_pair = defaultdict(lamda x: [0,0])\n",
    "dd_pair[2][1] = 1 # {2: [0,1]}"
   ]
  },
  {
   "cell_type": "markdown",
   "id": "ec69c126-3a9c-4cd8-a968-c5e69e62598e",
   "metadata": {},
   "source": [
    "#### Counter"
   ]
  },
  {
   "cell_type": "code",
   "execution_count": 26,
   "id": "ae41d517-71b1-40e9-8ecf-0ecfdcee83e9",
   "metadata": {},
   "outputs": [
    {
     "ename": "NameError",
     "evalue": "name 'document' is not defined",
     "output_type": "error",
     "traceback": [
      "\u001b[1;31m---------------------------------------------------------------------------\u001b[0m",
      "\u001b[1;31mNameError\u001b[0m                                 Traceback (most recent call last)",
      "Cell \u001b[1;32mIn[26], line 9\u001b[0m\n\u001b[0;32m      5\u001b[0m \u001b[38;5;28;01mfrom\u001b[39;00m \u001b[38;5;21;01mcollections\u001b[39;00m \u001b[38;5;28;01mimport\u001b[39;00m Counter\n\u001b[0;32m      7\u001b[0m c \u001b[38;5;241m=\u001b[39m Counter([\u001b[38;5;241m0\u001b[39m,\u001b[38;5;241m1\u001b[39m,\u001b[38;5;241m2\u001b[39m,\u001b[38;5;241m0\u001b[39m]) \u001b[38;5;66;03m# {0: 2, 1:1, 2:1}, o numero zero ocorre 2 x o numero 1 1x e o numero 2 x1\u001b[39;00m\n\u001b[1;32m----> 9\u001b[0m word_counts \u001b[38;5;241m=\u001b[39m Counter(\u001b[43mdocument\u001b[49m) \u001b[38;5;66;03m# lista todas as palavras de um documento e quantas ocorrencias\u001b[39;00m\n\u001b[0;32m     11\u001b[0m \u001b[38;5;66;03m# O Counter tem um metodo muito usado que é o most_common\u001b[39;00m\n\u001b[0;32m     12\u001b[0m \u001b[38;5;28;01mfor\u001b[39;00m word, count \u001b[38;5;129;01min\u001b[39;00m word_counts\u001b[38;5;241m.\u001b[39mmost_common(\u001b[38;5;241m10\u001b[39m):\n",
      "\u001b[1;31mNameError\u001b[0m: name 'document' is not defined"
     ]
    }
   ],
   "source": [
    "# Usado para criar histogramas que é um grafico que mostra a frequencia\n",
    "# de dados numericos usando retangulos\n",
    "# counter tranasforma os valores num objeto tipo defaultdict(int) mapendo keys\n",
    "\n",
    "from collections import Counter\n",
    "\n",
    "c = Counter([0,1,2,0]) # {0: 2, 1:1, 2:1}, o numero zero ocorre 2 x o numero 1 1x e o numero 2 x1\n",
    "\n",
    "word_counts = Counter(document) # lista todas as palavras de um documento e quantas ocorrencias\n",
    "\n",
    "# O Counter tem um metodo muito usado que é o most_common\n",
    "for word, count in word_counts.most_common(10):\n",
    "    print(word, count)\n",
    "    #printa as 10 palavras mais comuns e os seus contadores.\n"
   ]
  },
  {
   "cell_type": "markdown",
   "id": "3251ec54-f32c-4c79-a120-ca1446c97c6e",
   "metadata": {},
   "source": [
    "#### Sets"
   ]
  },
  {
   "cell_type": "code",
   "execution_count": null,
   "id": "910d5583-32b2-44ef-bdaa-22f054992662",
   "metadata": {},
   "outputs": [],
   "source": [
    "# É uma collection com elementos DISTINTOS\n",
    "s = set() #inicializar um set vazio\n",
    "s.add(1)\n",
    "s.add(2)\n",
    "s.add(2)\n",
    "# {1,2}, pois sets não tem repetiçãoo de valores\n",
    "x = len(s) # 2\n",
    "y = 2 in s # True\n",
    "z = 3 in s # False\n",
    "\n",
    "# Utilizamos sets pois:\n",
    "#1. São muito rápidos na operação 'in'\n",
    "#2. Membership testing: que trata-se de verificaar se uma collection de items contem um item especifico\n",
    "\n",
    "stopwords_list = ['a','an','at'] + hundreds_of_other_words + ['yet','you']\n",
    "\n",
    "'zip' in stopwords_list # False, mas temos que verificar cada elemento\n",
    "stopwords_set = set(stopwords_list)\n",
    "'zip' in stopwords_set # very fast to check\n",
    "\n",
    "# Outra razão é para encontrar items distintos numa collection\n",
    "\n",
    "item_list = [1,2,3,1,2,3]\n",
    "num_items = len(num_itens) # 6\n",
    "item_set = set(item_list) # {1,2,3}\n",
    "num_distinct_items = len(item_set) # 3\n",
    "distinct_item_list = list(item_set) # [1,2,3]"
   ]
  },
  {
   "cell_type": "markdown",
   "id": "01682734-4990-4006-b790-1bde8fed1ab7",
   "metadata": {},
   "source": [
    "#### Control Flow"
   ]
  },
  {
   "cell_type": "code",
   "execution_count": null,
   "id": "f0010d9a-7014-45a9-be37-24e56d9c4057",
   "metadata": {},
   "outputs": [],
   "source": [
    "# Condições usando if statements:\n",
    "if 1 > 2:\n",
    "    message = \"if only 1 were greater than two...\"\n",
    "elif 1 > 3:\n",
    "    message = \"elif stands for 'else if' \"\n",
    "else:\n",
    "    message = \" when all else fails use else (if you want to) \"\n",
    "\n",
    "# ternary:\n",
    "parity = 'even' if x % 2 == 0 else 'odd'\n",
    "# while loop:\n",
    "x = 0\n",
    "while x < 10:\n",
    "    print x, 'is less than 10'\n",
    "    x += 1\n",
    "\n",
    "# utiliza-mos mais for and in:\n",
    "for x in range(10):\n",
    "    print x, 'is less than 10'\n",
    "\n",
    "# continue and break for more complex logic:\n",
    "for x in range(10):\n",
    "    if x == 3:\n",
    "        continue # vai para a proxima iteration\n",
    "    if x == 5:\n",
    "        break # sai da iteration\n",
    "    print (x)\n",
    "\n",
    "# print 0,1,2,4"
   ]
  },
  {
   "cell_type": "markdown",
   "id": "4a0d8196-0f93-468b-9079-f3ab3f2ec32f",
   "metadata": {},
   "source": [
    "#### Truthiness"
   ]
  },
  {
   "cell_type": "code",
   "execution_count": 28,
   "id": "e1b08e47-4262-45d1-a65f-6c3ab8c24069",
   "metadata": {},
   "outputs": [
    {
     "name": "stdout",
     "output_type": "stream",
     "text": [
      "True\n",
      "True\n"
     ]
    },
    {
     "ename": "NameError",
     "evalue": "name 'some_func_that_returns_a_string' is not defined",
     "output_type": "error",
     "traceback": [
      "\u001b[1;31m---------------------------------------------------------------------------\u001b[0m",
      "\u001b[1;31mNameError\u001b[0m                                 Traceback (most recent call last)",
      "Cell \u001b[1;32mIn[28], line 16\u001b[0m\n\u001b[0;32m      8\u001b[0m \u001b[38;5;28mprint\u001b[39m (x \u001b[38;5;129;01mis\u001b[39;00m \u001b[38;5;28;01mNone\u001b[39;00m) \u001b[38;5;66;03m# Pythonic way\u001b[39;00m\n\u001b[0;32m     10\u001b[0m \u001b[38;5;66;03m# falsy:\u001b[39;00m\n\u001b[0;32m     11\u001b[0m \u001b[38;5;66;03m# False, None, [], {}, '', set(), 0, 0.0\u001b[39;00m\n\u001b[0;32m     12\u001b[0m \u001b[38;5;66;03m# O resto é tratado como True\u001b[39;00m\n\u001b[0;32m     13\u001b[0m \n\u001b[0;32m     14\u001b[0m \n\u001b[0;32m     15\u001b[0m \u001b[38;5;66;03m# Usa-se if statements para teste de as listas estao vaxias, ou strings ou dicts...\u001b[39;00m\n\u001b[1;32m---> 16\u001b[0m s \u001b[38;5;241m=\u001b[39m \u001b[43msome_func_that_returns_a_string\u001b[49m()\n\u001b[0;32m     17\u001b[0m \u001b[38;5;28;01mif\u001b[39;00m s:\n\u001b[0;32m     18\u001b[0m     first_char \u001b[38;5;241m=\u001b[39m s[\u001b[38;5;241m0\u001b[39m]\n",
      "\u001b[1;31mNameError\u001b[0m: name 'some_func_that_returns_a_string' is not defined"
     ]
    }
   ],
   "source": [
    "# booleans\n",
    "one_is_less_than_two = 1 < 2 # True\n",
    "true_equals_false = True == False # False\n",
    "\n",
    "# None -> Não existe valor\n",
    "x = None\n",
    "print (x == None) # True, not Pythonic\n",
    "print (x is None) # Pythonic way\n",
    "\n",
    "# falsy:\n",
    "# False, None, [], {}, '', set(), 0, 0.0\n",
    "# O resto é tratado como True\n",
    "\n",
    "\n",
    "# Usa-se if statements para teste de as listas estao vaxias, ou strings ou dicts...\n",
    "s = some_func_that_returns_a_string()\n",
    "if s:\n",
    "    first_char = s[0]\n",
    "else:\n",
    "    first_char = ''\n",
    "# forma mais simples de fazer o mesmo\n",
    "first_char = s and s[0]\n",
    "\n",
    "# all, any func:\n",
    "all([True,1, {3}]) #True\n",
    "all([True,1, {}]) # False, pois dict vazio é falsy\n",
    "any([True, 1, {}]) # True, com any basta 1 ser True\n",
    "all([]) # True, pois nao ha falsy elements na lista\n",
    "any([]) # False, pois nao ha truthy elements na lista"
   ]
  },
  {
   "cell_type": "markdown",
   "id": "9f31466f-54fb-4ce9-a6bd-c0e7c66d9371",
   "metadata": {},
   "source": [
    "## The Not-So-Basic"
   ]
  },
  {
   "cell_type": "markdown",
   "id": "07f76f43-6cd4-48f1-9bd3-050555b1081d",
   "metadata": {},
   "source": [
    "#### Sorting"
   ]
  },
  {
   "cell_type": "code",
   "execution_count": 29,
   "id": "b052c456-2fe8-46eb-bef7-00f5932d2ce3",
   "metadata": {},
   "outputs": [
    {
     "ename": "SyntaxError",
     "evalue": "invalid syntax (1848610678.py, line 15)",
     "output_type": "error",
     "traceback": [
      "\u001b[1;36m  Cell \u001b[1;32mIn[29], line 15\u001b[1;36m\u001b[0m\n\u001b[1;33m    key=lambda (word, count): count,\u001b[0m\n\u001b[1;37m               ^\u001b[0m\n\u001b[1;31mSyntaxError\u001b[0m\u001b[1;31m:\u001b[0m invalid syntax\n"
     ]
    }
   ],
   "source": [
    "# Toda a list em python tem um sort element.\n",
    "# se nao quiser alterar a lista, podemos chamar a função sorted que retorna uma nova lista:\n",
    "x = [4,1,2,3]\n",
    "y = sorted(x) # [1,2,3,4] mas x não foi alterado\n",
    "x.sort() # agora x é [1,2,3,4]\n",
    "\n",
    "# por defeito sort e sorted ordenam os valores do menor para o maior,\n",
    "# se especificar reverse = True\n",
    "\n",
    "# sort a list pelo valor absoluto do maior para o mais pequeno\n",
    "x = sorted([-4,1,-2,3], key=abs, reverse=True)\n",
    "print(x)\n",
    "\n",
    "#sort words e conta do maior para o mais pequeno\n",
    "wc = sorted(word_counts.items(),\n",
    "            key=lambda (word, count): count,\n",
    "            reverse=True)"
   ]
  },
  {
   "cell_type": "markdown",
   "id": "519fb679-71ef-41eb-9666-57c68d463421",
   "metadata": {},
   "source": [
    "#### List Comprehensions"
   ]
  },
  {
   "cell_type": "code",
   "execution_count": 31,
   "id": "ca1e8035-66be-4fe0-bc84-9e1d1782c290",
   "metadata": {},
   "outputs": [
    {
     "name": "stdout",
     "output_type": "stream",
     "text": [
      "[(0, 1), (0, 2), (0, 3), (0, 4), (0, 5), (0, 6), (0, 7), (0, 8), (0, 9), (1, 2), (1, 3), (1, 4), (1, 5), (1, 6), (1, 7), (1, 8), (1, 9), (2, 3), (2, 4), (2, 5), (2, 6), (2, 7), (2, 8), (2, 9), (3, 4), (3, 5), (3, 6), (3, 7), (3, 8), (3, 9), (4, 5), (4, 6), (4, 7), (4, 8), (4, 9), (5, 6), (5, 7), (5, 8), (5, 9), (6, 7), (6, 8), (6, 9), (7, 8), (7, 9), (8, 9)]\n"
     ]
    }
   ],
   "source": [
    "# transformar uma lista noutra lista, escolhendo certos elementos,\n",
    "# ou em transformar esses elementos, ou até mesmo ambos ao mesmo tempo.\n",
    "\n",
    "even_numbers = [x for x in range(5) if x % 2 == 0] # [0, 2, 4]\n",
    "squares = [x * x for x in range(5)] # [0, 1, 4, 9, 16]\n",
    "even_squares = [ x * x for x in even_numbers ] # [0, 4, 16]\n",
    "\n",
    "# podemos transformar listas em dicts ou sets:\n",
    "square_dict = { x : x * x for x in range(5) } #{ 0:0, 1:1, 2:4, 3:9, 4:16 }\n",
    "square_set = { x * x for x in [1, -1] } #{ 1 }\n",
    "\n",
    "# se nao for necessario o valor da lista, por convensão usa-se o _ como variavel\n",
    "zeroes = [0 for _ in even_numbers] # tem o mesmo tamanho que even_numbers\n",
    "\n",
    "pairs = [(x,y)\n",
    "         for x in range(10)\n",
    "         for y in range(10)] # 100 pares (0,0) .... (9,9)\n",
    "\n",
    "increasing_pairs = [(x, y) \n",
    "                    for x in range(10)\n",
    "                    for y in range(x + 1, 10)] # y será sempre maiaor que x\n",
    "print(increasing_pairs)"
   ]
  },
  {
   "cell_type": "markdown",
   "id": "34989a96-ec00-4b2d-b91e-4221f068e331",
   "metadata": {},
   "source": [
    "#### Generators and Iterators"
   ]
  },
  {
   "cell_type": "code",
   "execution_count": 32,
   "id": "f6a13d75-9af3-4f07-8d93-6fa4de92da69",
   "metadata": {},
   "outputs": [],
   "source": [
    "# Um generator é algo que nós podemos iterar sobre.\n",
    "# Por funções e com o operador yield:\n",
    "def lazy_range(n):\n",
    "    \"\"\"\n",
    "    a lazy version of range\n",
    "    yield = Ele retorna um valor mantendo o estado de onde parou. \n",
    "    Quando executa de novo ele continua de onde parou. \n",
    "    Ele controla o estado de um enumerador entre execuções da função.\n",
    "    \"\"\"\n",
    "    i = 0\n",
    "    while i < n:\n",
    "        yield i\n",
    "        i += 1\n",
    "\n",
    "# lazy_range é igual à range que é por ela mesmo lazy.\n",
    "for i in lazy_range(10):\n",
    "    do_something_with(i)\n",
    "\n",
    "# Outra forma de criar generators é usando uma comprehensions wrapped em paramentros:\n",
    "lazy_evens_below_20 = (i for i in lazy_range(20) if i % 2 == 0)\n",
    "\n",
    "# Na maioria das vezes usamos o metodo iteritems() dops dicts que lazily yields o pares key-value 1 de cada vez enquanto iteramos sobre eles\n"
   ]
  },
  {
   "cell_type": "markdown",
   "id": "1397b5b0-7373-4c85-b07a-a94677da680a",
   "metadata": {},
   "source": [
    "#### Randomness"
   ]
  },
  {
   "cell_type": "code",
   "execution_count": 51,
   "id": "f4a9dde7-1610-47d3-bcd0-2bf7f7ea596c",
   "metadata": {},
   "outputs": [
    {
     "name": "stdout",
     "output_type": "stream",
     "text": [
      "0.5714025946899135\n",
      "0.5714025946899135\n",
      "[4, 5, 8, 1, 2, 6, 7, 3, 0, 9]\n",
      "[4, 15, 47, 23, 2, 26]\n",
      "[2, 9, 5, 6]\n"
     ]
    }
   ],
   "source": [
    "# Para gerar numeros aleatórios usamos RANDOM\n",
    "\n",
    "import random\n",
    "four_uniform_randoms = [random.random() for _ in range(4)]\n",
    "# random.random produz numeros aleatorios\n",
    "\n",
    "random.seed(10) #informar um valor de entrada para o algoritmo que vai gerar números aleatórios.\n",
    "print(random.random()) # o algoritmo que gera valores aleatórios, na verdade é 'pseudo-aleatorio'\n",
    "random.seed(10) # reset a seed para 10\n",
    "print(random.random()) # retorna o mesmo valor anterior\n",
    "\n",
    "#random.randrange, leva 1 ou 2 argumentos e retorna um elemento escolhi aleatoriamente de um range() corespondente\n",
    "random.randrange(10) # escolhe aleatoriamente num range(10) 1...9\n",
    "random.randrange(3,6) # escolhe aleatoriamente um num entre 3,4,5\n",
    "\n",
    "#random.shuffle que reordena aos elementos de uma lista\n",
    "up_to_ten = [x for x in range(10)]\n",
    "random.shuffle(up_to_ten)\n",
    "print(up_to_ten)\n",
    "\n",
    "# random.choice() quando é se quer escolher aleatoriamente um valor de uma lista\n",
    "random.choice(['Alice', 'Bob', 'Charlie'])\n",
    "\n",
    "# random.sample() quando queremos escolher aleatoriamente uma sample de elementos sem repor (sem duplicados)\n",
    "lottery_numbers = range(60)\n",
    "winning_numbers = random.sample(lottery_numbers, 6)\n",
    "print(winning_numbers)\n",
    "\n",
    "# Para retirar uma sample de elementso sem repozição, pode-se faz multiplas chamadas com random.choice\n",
    "four_with_replacement = [random.choice(range(10))\n",
    "                         for _ in range(4)]\n",
    "print(four_with_replacement)"
   ]
  },
  {
   "cell_type": "markdown",
   "id": "1a51a7df-32b2-4d11-8246-cf595431ff38",
   "metadata": {},
   "source": [
    "#### Regular Expressions"
   ]
  },
  {
   "cell_type": "code",
   "execution_count": 53,
   "id": "5b95f67a-a0e4-4a32-93d8-9fe761743c6f",
   "metadata": {},
   "outputs": [
    {
     "name": "stdout",
     "output_type": "stream",
     "text": [
      "True\n"
     ]
    }
   ],
   "source": [
    "import re\n",
    "# Regular expressions utilização-se para fazer pesquisa em texto.\n",
    "print(all([\n",
    "    not re.match('a', 'cat'), # True, pois cat nao começa com 'a'\n",
    "    re.search('a','cat'), # True, pois cat contem a letraa 'a'\n",
    "    not re.search('c', 'dog'), # True, já que dog não contem a letra 'c'\n",
    "    3 == len(re.split('[ab]', 'carbs')), # separar em 'a' e 'b' para ['c','r','s']\n",
    "    'R-D-' == re.sub('[0-9]','-','R2D2'), # substitui numeros com -\n",
    "]))"
   ]
  },
  {
   "cell_type": "markdown",
   "id": "32d52b80-08c0-47e2-a27a-f2eb73f2e0a2",
   "metadata": {},
   "source": [
    "#### Object-Oriented Programming"
   ]
  },
  {
   "cell_type": "code",
   "execution_count": null,
   "id": "b32840cc-4816-480c-8361-dd58de96a904",
   "metadata": {},
   "outputs": [],
   "source": [
    "# Por convenção dá-se sempre as classes nomes PascalCase\n",
    "class Set:\n",
    "    # estes sao os membros da funções\n",
    "    # cada um leva um primeiro paramentro self - outra convenção\n",
    "    # que se refere ao objeto Set em particular\n",
    "    def __init__(self, values=None):\n",
    "        \"\"\"\n",
    "        init é o construtor\n",
    "        que é chamado quando um novo Set é criado\n",
    "        como:\n",
    "        s1 = Set() #empty set\n",
    "        s2 = Set([1,2,2,3]) # initialize with values\n",
    "        \"\"\"\n",
    "        self.dict = {} # cada instancia de set tem uma propriedade de dict\n",
    "                        #que é a que se usa para rastrear memberships\n",
    "        if values is not None:\n",
    "            for value in values:\n",
    "                self.add(value)\n",
    "\n",
    "    def __repr__(self):\n",
    "        \"\"\"\n",
    "        Representação em forma de string de um objeto set\n",
    "        \"\"\"\n",
    "        return \"Set: \" + str(self.dict.keys())\n",
    "\n",
    "    # vamos representar membership como send a key em self.dict com o valor True\n",
    "    def add(self, value):\n",
    "        self.dict[value] = True\n",
    "\n",
    "    # o valor está no set se for uma key no dict\n",
    "    def contains(self, value):\n",
    "        return value in self.dict\n",
    "\n",
    "    def remove(self, value):\n",
    "        return self.dict[value]\n",
    "\n",
    "s = Set([1,2,3])\n",
    "s.add(4)\n",
    "s.contains(4) # True\n",
    "s.remove(3)\n",
    "s.contains(3) # False"
   ]
  },
  {
   "cell_type": "markdown",
   "id": "85b8a17a-3f75-4c70-aba3-e5a905848427",
   "metadata": {},
   "source": [
    "#### Functional Tools"
   ]
  },
  {
   "cell_type": "code",
   "execution_count": 3,
   "id": "6f14172f-953f-4fc7-aac8-a094f99da6a3",
   "metadata": {},
   "outputs": [
    {
     "name": "stdout",
     "output_type": "stream",
     "text": [
      "8\n"
     ]
    }
   ],
   "source": [
    "from functools import partial\n",
    "\n",
    "def exp(base, power):\n",
    "    return base ** power\n",
    "\n",
    "two_to_the = partial(exp, 2) # torna-se uma função de uma variavel\n",
    "print(two_to_the(3)) # 8\n",
    "\n",
    "# map, reduce and filter\n",
    "def double(x):\n",
    "    return 2 * x\n",
    "\n",
    "xs = [1,2,3,4]\n",
    "twice_xs = [double(x) for x in xs] # [2,4,6,8]\n",
    "twice_xs = map(double, xs) # igual à anterior\n",
    "list_doubler = partial(map, double) # função que duplica uma lista\n",
    "twice_xs = list_doubler(xs) # [2, 4, 6, 8]\n",
    "\n",
    "def multiply(x, y): return x * y\n",
    "products = map(multiply, [1,2], [4,5]) # [1*4, 2*5] = [4, 10]\n",
    "\n",
    "#filter: faz o mesmo que o if \n",
    "def is_even(x):\n",
    "    return x % 2 == 0\n",
    "\n",
    "x_evens = [x for x in xs if is_even(x)] # [2, 4]\n",
    "x_evens = filter(is_even, xs) # igual à anterior\n",
    "list_evener = partial(filter, is_even) # função que filtra a lista\n",
    "x_evens = list_evener(xs) # novamente [2,4]\n",
    "\n",
    "# reduce: combina os 2 primeiros elementos da lista, depois o resultado com o 3 elemnto...\n",
    "# produzindo apenas um resultado\n",
    "x_product = reduce(multiply, xs) # = 1 * 2 * 3 * 4 = 24\n",
    "list_product = partial(reduce, multiply) # função que reduz a lista\n",
    "x_product = list_product(xs) # 24\n"
   ]
  },
  {
   "cell_type": "markdown",
   "id": "18f6b5ae-edda-4eed-9f74-99ad3484a936",
   "metadata": {},
   "source": [
    "#### enumerate"
   ]
  },
  {
   "cell_type": "code",
   "execution_count": 4,
   "id": "b32c870b-9620-43b6-b862-4108ffc9e055",
   "metadata": {},
   "outputs": [
    {
     "ename": "NameError",
     "evalue": "name 'documents' is not defined",
     "output_type": "error",
     "traceback": [
      "\u001b[1;31m---------------------------------------------------------------------------\u001b[0m",
      "\u001b[1;31mNameError\u001b[0m                                 Traceback (most recent call last)",
      "Cell \u001b[1;32mIn[4], line 4\u001b[0m\n\u001b[0;32m      1\u001b[0m \u001b[38;5;66;03m# iterar sobre uma lista e usar ambos os elementos e os seus index\u001b[39;00m\n\u001b[0;32m      2\u001b[0m \n\u001b[0;32m      3\u001b[0m \u001b[38;5;66;03m# not Pythonic\u001b[39;00m\n\u001b[1;32m----> 4\u001b[0m \u001b[38;5;28;01mfor\u001b[39;00m i \u001b[38;5;129;01min\u001b[39;00m \u001b[38;5;28mrange\u001b[39m(\u001b[38;5;28mlen\u001b[39m(\u001b[43mdocuments\u001b[49m)):\n\u001b[0;32m      5\u001b[0m     document \u001b[38;5;241m=\u001b[39m documents[i]\n\u001b[0;32m      6\u001b[0m     do_something(i, document)\n",
      "\u001b[1;31mNameError\u001b[0m: name 'documents' is not defined"
     ]
    }
   ],
   "source": [
    "# iterar sobre uma lista e usar ambos os elementos e os seus index\n",
    "\n",
    "# not Pythonic\n",
    "for i in range(len(documents)):\n",
    "    document = documents[i]\n",
    "    do_something(i, document)\n",
    "\n",
    "# also not Pythonic\n",
    "i = 0\n",
    "for document in documents:\n",
    "    do_something(i, document)\n",
    "    i += 1\n",
    "\n",
    "# Enumerate é a solução Pythonic\n",
    "for i, document in enumerate(documents):\n",
    "    do_something(i, document)\n",
    "\n",
    "# se nos interessar apenas os index:\n",
    "for i in range(len(documents)): do_something(i) # not Pythonic\n",
    "for i, _ in enumerate(documents): do_something(i) # Pythonic"
   ]
  },
  {
   "cell_type": "markdown",
   "id": "15df7877-7725-4938-850b-4190c92195af",
   "metadata": {},
   "source": [
    "#### Zip and Argument Unpacking"
   ]
  },
  {
   "cell_type": "code",
   "execution_count": 6,
   "id": "87afaef1-2979-4b07-a5fc-51a9abf6dc71",
   "metadata": {},
   "outputs": [
    {
     "name": "stdout",
     "output_type": "stream",
     "text": [
      "<zip object at 0x0000021ECE562B40>\n"
     ]
    }
   ],
   "source": [
    "# zip transforma varias listas numa lista de tuples com os elementos correspondentes:\n",
    "list1 = ['a','b','c']\n",
    "list2 = [1,2,3]\n",
    "zipada = zip(list1,list2) #[('a', 1),('b',2),('c',3)]\n",
    "\n",
    "# para assim que a primeira lista terminar\n",
    "# unzip -> * performa argument unpacking\n",
    "letters, numbers = zip(*zipada)\n",
    "# pode ser usada em qualquer função"
   ]
  },
  {
   "cell_type": "markdown",
   "id": "af3a6176-0555-4cd3-b3d1-7d7d15aa99e3",
   "metadata": {},
   "source": [
    "#### args and kwargs"
   ]
  },
  {
   "cell_type": "code",
   "execution_count": 9,
   "id": "98313051-6c3c-4c0a-98c4-2bf12827d636",
   "metadata": {},
   "outputs": [
    {
     "name": "stdout",
     "output_type": "stream",
     "text": [
      "unnamed args: (1, 2)\n",
      "keyword args: {'key': 'word', 'key2': 'word2'}\n"
     ]
    }
   ],
   "source": [
    "# função que toma argumentos arbitrarios.\n",
    "def magic(*args, **kwargs):\n",
    "    print(\"unnamed args:\", args) # args é um tuple dos argumentos\n",
    "    print(\"keyword args:\", kwargs) # kwargs é um dicionario dos nomes dos argumentos\n",
    "\n",
    "magic(1,2, key=\"word\", key2=\"word2\")"
   ]
  },
  {
   "cell_type": "code",
   "execution_count": null,
   "id": "a55e0ebe-956d-4d57-a38f-64514bfbd8d8",
   "metadata": {},
   "outputs": [],
   "source": []
  }
 ],
 "metadata": {
  "kernelspec": {
   "display_name": "Python 3 (ipykernel)",
   "language": "python",
   "name": "python3"
  },
  "language_info": {
   "codemirror_mode": {
    "name": "ipython",
    "version": 3
   },
   "file_extension": ".py",
   "mimetype": "text/x-python",
   "name": "python",
   "nbconvert_exporter": "python",
   "pygments_lexer": "ipython3",
   "version": "3.10.11"
  }
 },
 "nbformat": 4,
 "nbformat_minor": 5
}
