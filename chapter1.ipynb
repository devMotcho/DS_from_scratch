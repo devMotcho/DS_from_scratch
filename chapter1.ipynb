{
 "cells": [
  {
   "cell_type": "code",
   "execution_count": 6,
   "id": "d78bf58a-7392-4ed4-8970-ad9ba7cc896d",
   "metadata": {},
   "outputs": [],
   "source": [
    "import pandas as pd\n",
    "\n",
    "users = [\n",
    "    {'id':0, 'name':'Hero'},\n",
    "    {'id':1, 'name':'Dunn'},\n",
    "    {'id':2, 'name':'Sue'},\n",
    "    {'id':3, 'name':'Chi'},\n",
    "    {'id':4, 'name':'Thor'},\n",
    "    {'id':5, 'name':'Clive'},\n",
    "    {'id':6, 'name':'Hicks'},\n",
    "    {'id':7, 'name':'Devin'},\n",
    "    {'id':8, 'name':'Kate'},\n",
    "    {'id':9, 'name':'Klein'},\n",
    "]\n",
    "\n",
    "friendships = [(0,1),(0,2),(1,2),(1,3),(2,3),(3,4),\n",
    "              (4,5),(5,6),(5,7),(6,8),(7,8),(8,9),]"
   ]
  },
  {
   "cell_type": "code",
   "execution_count": 7,
   "id": "e4e1821c-2fef-47ff-9cd5-1dc1252cbd34",
   "metadata": {},
   "outputs": [],
   "source": [
    "for user in users:\n",
    "    user['friends'] = []\n",
    "\n",
    "for i, j in friendships:\n",
    "    # user [i] is the user whose id is i (i,j) in friendships list tuple\n",
    "    users[i]['friends'].append(users[j]) # add i as a friend of j\n",
    "    users[j]['friends'].append(users[i]) # add j as a friend of i"
   ]
  },
  {
   "cell_type": "markdown",
   "id": "e31a6b85-f44e-42b1-ba00-c22ec6bceb44",
   "metadata": {},
   "source": [
    "#### What's the average number of connections?"
   ]
  },
  {
   "cell_type": "code",
   "execution_count": 8,
   "id": "231f3f45-114c-46bd-9a89-c1ec0663e9ae",
   "metadata": {},
   "outputs": [],
   "source": [
    "#length of friends_ids list\n",
    "\n",
    "def number_of_friends(user):\n",
    "    #how many friends does the user have?\n",
    "    return len(user['friends'])\n",
    "\n",
    "total_connections = sum(number_of_friends(user) for user in users)"
   ]
  },
  {
   "cell_type": "code",
   "execution_count": 19,
   "id": "92f08c21-c658-406b-b674-24f564c23f0d",
   "metadata": {},
   "outputs": [
    {
     "name": "stdout",
     "output_type": "stream",
     "text": [
      "24\n"
     ]
    }
   ],
   "source": [
    "from __future__ import division\n",
    "\n",
    "num_users = len(users)\n",
    "avg_connections = total_connections / num_users"
   ]
  },
  {
   "cell_type": "code",
   "execution_count": 20,
   "id": "8547ea61-fdba-44b7-8de2-8b16991794ff",
   "metadata": {},
   "outputs": [
    {
     "name": "stdout",
     "output_type": "stream",
     "text": [
      "[(0, 2), (1, 3), (2, 3), (3, 3), (4, 2), (5, 3), (6, 2), (7, 2), (8, 3), (9, 1)]\n"
     ]
    }
   ],
   "source": [
    "#sort the users from 'most friends' to 'least friends'\n",
    "\n",
    "# create a list (user_id, number_of_friends)\n",
    "num_friends_by_id = [(user['id'], number_of_friends(user)) for user in users]\n",
    "#network metric degree centrality\n",
    "print(num_friends_by_id)"
   ]
  },
  {
   "cell_type": "markdown",
   "id": "c0c9b47a-e3d1-401b-9a0a-80513ce61df1",
   "metadata": {},
   "source": [
    "#### Data Scientists You May Know"
   ]
  },
  {
   "cell_type": "code",
   "execution_count": 24,
   "id": "9fab4f5c-9ca1-41c4-83a9-0cc5fc192354",
   "metadata": {},
   "outputs": [
    {
     "name": "stdout",
     "output_type": "stream",
     "text": [
      "[0, 2, 3, 0, 1, 3]\n",
      "[1, 2]\n",
      "[0, 2, 3]\n",
      "[0, 1, 3]\n"
     ]
    }
   ],
   "source": [
    "#foaf is short for 'friend of a friend'\n",
    "def friends_of_friend(user):\n",
    "    return [foaf['id']\n",
    "            for friend in user['friends'] # for each of user's friends\n",
    "            for foaf in friend['friends']] # for each of their friends\n",
    "\n",
    "#user Hero friends \n",
    "print(friends_of_friend(users[0]))\n",
    "# dá uma lista do id os amigos dos seus amigos, neste caso o user 0 tem como amigo o user 1 e o user 2\n",
    "# sendo assim, obtemos uma lista com os amigos desses, incluindo ele proprio\n",
    "# user 0 tem user 1 e user 2 amigos\n",
    "# user 1 tem 0, 2, 3\n",
    "# user 2 tem 0, 1, 3\n",
    "print ([friend['id'] for friend in users[0]['friends']])\n",
    "print ([friend['id'] for friend in users[1]['friends']])\n",
    "print ([friend['id'] for friend in users[2]['friends']])\n"
   ]
  },
  {
   "cell_type": "code",
   "execution_count": 28,
   "id": "2c3df3ca-f354-476d-90e1-c056330ed0a8",
   "metadata": {},
   "outputs": [
    {
     "name": "stdout",
     "output_type": "stream",
     "text": [
      "Counter({3: 2})\n"
     ]
    }
   ],
   "source": [
    "from collections import Counter\n",
    "# Sabendo que as pessoas sao amigos dos amigos em várias formas podemos produzir um contador de amigos mutuos\n",
    "# E devemos usar uma função de ajuda para excluir os users que já conhece\n",
    "\n",
    "def not_the_same(user, other_user):\n",
    "    # 2 users não são iguais se tiverem diferentes id's\n",
    "    return user['id'] != other_user['id']\n",
    "\n",
    "def not_friends(user, other_user):\n",
    "    # o other_user não é amigo se não estiver na user['friends']\n",
    "    # ou seja, se not_the_same em todas as pessoas em user['friends']\n",
    "    return all(not_the_same(friend,other_user)\n",
    "               for friend in user['friends'])\n",
    "\n",
    "def friends_of_friends_ids(user):\n",
    "    return Counter(foaf['id']\n",
    "                for friend in user['friends'] # para cada um dos meus amigos\n",
    "                for foaf in friend['friends'] # contar os amigos deles\n",
    "                if not_the_same(user, foaf) # que nao sao eu\n",
    "                and not_friends(user, foaf)) # nem meus amigos\n",
    "\n",
    "print(friends_of_friends_ids(users[0]))\n",
    "# Counter({3: 2}) , o user 0 , não é amigo do user 3, porém o user 3 tem 2 amigos que o user 0 tem."
   ]
  },
  {
   "cell_type": "markdown",
   "id": "311e5e2c-b256-429d-99c3-57e66585c020",
   "metadata": {},
   "source": [
    "#### Substantive expertise"
   ]
  },
  {
   "cell_type": "code",
   "execution_count": 33,
   "id": "59585e61-14de-4cc6-821b-e2d2318b7a8d",
   "metadata": {},
   "outputs": [
    {
     "name": "stdout",
     "output_type": "stream",
     "text": [
      "defaultdict(<class 'list'>, {'Haddop': [0], 'Big Data': [0, 8, 9], 'HBASE': [0], 'Java': [0, 5, 9], 'Spark': [0], 'Storm': [0], 'Cassandra': [0, 1], 'NoSQL': [1], 'MongoDB': [1], 'HBase': [1], 'Postgres': [1], 'Python': [2, 3, 5], 'sikit-learn': [2, 7], 'scipy': [2], 'numpy': [2], 'statsmodels': [2], 'pandas': [2], 'R': [3, 5], 'statistics': [3, 6], 'regression': [3, 4], 'probability': [3, 6], 'machine learning': [4], 'decision trees': [4], 'libsvm': [4], 'C++': [5], 'Haskell': [4], 'programming languages': [5], 'mathematics': [6], 'theory': [6], 'machin learning': [7], 'Mahout': [7], 'neural networks': [7, 8], 'deep learning': [8], 'artificial intelligence': [8], 'Hadoop': [9], 'MapReduce': [9]})\n",
      "************************\n",
      "defaultdict(<class 'list'>, {0: ['Haddop', 'Big Data', 'HBASE', 'Java', 'Spark', 'Storm', 'Cassandra'], 1: ['NoSQL', 'MongoDB', 'Cassandra', 'HBase', 'Postgres'], 2: ['Python', 'sikit-learn', 'scipy', 'numpy', 'statsmodels', 'pandas'], 3: ['R', 'Python', 'statistics', 'regression', 'probability'], 4: ['machine learning', 'regression', 'decision trees', 'libsvm', 'Haskell'], 5: ['Python', 'R', 'Java', 'C++', 'programming languages'], 6: ['statistics', 'probability', 'mathematics', 'theory'], 7: ['machin learning', 'sikit-learn', 'Mahout', 'neural networks'], 8: ['neural networks', 'deep learning', 'Big Data', 'artificial intelligence'], 9: ['Hadoop', 'Java', 'MapReduce', 'Big Data']})\n"
     ]
    }
   ],
   "source": [
    "interests = [\n",
    "    (0, 'Haddop'),(0, 'Big Data'),(0, 'HBASE'),(0, 'Java'),\n",
    "    (0, 'Spark'),(0, 'Storm'),(0, 'Cassandra'),\n",
    "    (1, 'NoSQL'),(1, 'MongoDB'),(1, 'Cassandra'),(1, 'HBase'),\n",
    "    (1, 'Postgres'),(2, 'Python'),(2, 'sikit-learn'),(2, 'scipy'),\n",
    "    (2, 'numpy'),(2, 'statsmodels'),(2, 'pandas'),(3, 'R'),\n",
    "    (3, 'Python'),(3, 'statistics'),(3, 'regression'),(3, 'probability'),\n",
    "    (4, 'machine learning'),(4, 'regression'),(4, 'decision trees'),(4, 'libsvm'),\n",
    "    (5, 'Python'),(5, 'R'),(5, 'Java'),(5, 'C++'),\n",
    "    (4, 'Haskell'),(5, 'programming languages'),(6, 'statistics'),\n",
    "    (6, 'probability'),(6, 'mathematics'),(6, 'theory'),\n",
    "    (7, 'machin learning'),(7, 'sikit-learn'),(7, 'Mahout'),\n",
    "    (7, 'neural networks'),(8, 'neural networks'),(8, 'deep learning'),\n",
    "    (8, 'Big Data'),(8, 'artificial intelligence'),(9, 'Hadoop'),\n",
    "    (9, 'Java'),(9, 'MapReduce'),(9, 'Big Data')    \n",
    "]\n",
    "# encontrar users com os meus interesses\n",
    "def data_scientists_who_like(target_interest):\n",
    "    return [user_id\n",
    "            for user_id, user_interest in interests\n",
    "            if user_interest == target_interest]\n",
    "\n",
    "# criar um index dos interesses dos users\n",
    "from collections import defaultdict\n",
    "# as keys sao os interests e os values sao os user_ids com esses interests\n",
    "user_ids_by_interest = defaultdict(list)\n",
    "for user_id, interest in interests:\n",
    "    user_ids_by_interest[interest].append(user_id)\n",
    "\n",
    "print(user_ids_by_interest)\n",
    "\n",
    "print('************************')\n",
    "# e outra com os user_ids e seus interesses\n",
    "interests_by_user_id = defaultdict(list)\n",
    "for user_id, interest in interests:\n",
    "    interests_by_user_id[user_id].append(interest)\n",
    "\n",
    "print(interests_by_user_id)"
   ]
  },
  {
   "cell_type": "markdown",
   "id": "e51e1a6d-4336-4c97-bb1b-f7c6d018ddd9",
   "metadata": {},
   "source": [
    "#### Encontrar quem tem os mesmos interesses que um dado user:"
   ]
  },
  {
   "cell_type": "code",
   "execution_count": 39,
   "id": "b5606a9b-adf5-4b6b-aad7-a32424bf73f8",
   "metadata": {},
   "outputs": [
    {
     "data": {
      "text/plain": [
       "Counter({0: 2, 5: 1, 8: 1})"
      ]
     },
     "execution_count": 39,
     "metadata": {},
     "output_type": "execute_result"
    }
   ],
   "source": [
    "# Iterar os interesses do user\n",
    "# Para cada interesse, iterar sobre o outro user interesse\n",
    "# Contar quantas vezes nos vemos um user\n",
    "\n",
    "def most_common_interests_with(user):\n",
    "    return Counter(interested_user_id\n",
    "                   for interest in interests_by_user_id[user['id']]\n",
    "                   for interested_user_id in user_ids_by_interest[interest]\n",
    "                   if interested_user_id != user['id'])\n",
    "\n",
    "most_common_interests_with(user)"
   ]
  },
  {
   "cell_type": "markdown",
   "id": "37e25311-0f25-461d-a7ff-b992680eb697",
   "metadata": {},
   "source": [
    "#### Salaries and Experience"
   ]
  },
  {
   "cell_type": "code",
   "execution_count": 54,
   "id": "a0cabe8e-dc6c-4974-bb9d-f4d3b299aa61",
   "metadata": {},
   "outputs": [
    {
     "name": "stdout",
     "output_type": "stream",
     "text": [
      "defaultdict(<class 'list'>, {8.7: [83000], 8.1: [88000], 0.7: [48000], 6: [76000], 6.5: [69000], 7.5: [76000], 2.5: [60000], 10: [83000], 1.9: [48000], 4.2: [63000]})\n",
      "***************************\n",
      "{8.7: 83000.0, 8.1: 88000.0, 0.7: 48000.0, 6: 76000.0, 6.5: 69000.0, 7.5: 76000.0, 2.5: 60000.0, 10: 83000.0, 1.9: 48000.0, 4.2: 63000.0}\n"
     ]
    }
   ],
   "source": [
    "salaries_and_tenures = [(83000, 8.7), (88000, 8.1),\n",
    "                        (48000, 0.7), (76000, 6),\n",
    "                        (69000, 6.5), (76000, 7.5),\n",
    "                        (60000, 2.5), (83000, 10),\n",
    "                        (48000, 1.9), (63000, 4.2)]\n",
    "\n",
    "# keys sao anos, values sao uma lista de salarios \n",
    "salary_by_tenure = defaultdict(list)\n",
    "for salary, tenure in salaries_and_tenures:\n",
    "    salary_by_tenure[tenure].append(salary)\n",
    "# em função dos anos de serviço\n",
    "print(salary_by_tenure)\n",
    "\n",
    "# keys são os anos, e os valores são a média do salario por anos de serviço\n",
    "average_salary_by_tenure = {\n",
    "    tenure : sum(salaries) / len(salaries)\n",
    "    for tenure, salaries in salary_by_tenure.items()\n",
    "}\n",
    "print('***************************')\n",
    "print(average_salary_by_tenure)"
   ]
  },
  {
   "cell_type": "code",
   "execution_count": 57,
   "id": "dadb295a-5696-4b74-bc00-921260875efb",
   "metadata": {},
   "outputs": [
    {
     "name": "stdout",
     "output_type": "stream",
     "text": [
      "{'more than five': 79166.66666666667, 'less than two': 48000.0, 'between two and five': 61500.0}\n"
     ]
    }
   ],
   "source": [
    "def tenure_bucket(tenure):\n",
    "    if tenure <2:\n",
    "        return 'less than two'\n",
    "    elif tenure <5:\n",
    "        return 'between two and five'\n",
    "    else: \n",
    "        return 'more than five'\n",
    "\n",
    "# Agrupar salário no corespondente bucket:\n",
    "salary_by_tenure_bucket = defaultdict(list)\n",
    "\n",
    "for salary, tenure in salaries_and_tenures:\n",
    "    bucket = tenure_bucket(tenure)\n",
    "    salary_by_tenure_bucket[bucket].append(salary)\n",
    "\n",
    "# Compute o salario medio para cada grupo\n",
    "avarage_salary_by_bucket = {\n",
    "    tenure_bucket : sum(salaries) / len(salaries)\n",
    "    for tenure_bucket, salaries in salary_by_tenure_bucket.items()\n",
    "}\n",
    "print(avarage_salary_by_bucket)\n",
    "\n",
    "# 'Data scientists with more than five years experience earn 65% more than scientists with little or no experience!'\n"
   ]
  },
  {
   "cell_type": "markdown",
   "id": "631e3e27-15d1-4236-8aa7-fe64382aad42",
   "metadata": {},
   "source": [
    "#### Interesses mais populares"
   ]
  },
  {
   "cell_type": "code",
   "execution_count": 58,
   "id": "3d83b02c-6291-4335-aded-fe19fe451fb6",
   "metadata": {},
   "outputs": [
    {
     "name": "stdout",
     "output_type": "stream",
     "text": [
      "[(0, 'Haddop'), (0, 'Big Data'), (0, 'HBASE'), (0, 'Java'), (0, 'Spark'), (0, 'Storm'), (0, 'Cassandra'), (1, 'NoSQL'), (1, 'MongoDB'), (1, 'Cassandra'), (1, 'HBase'), (1, 'Postgres'), (2, 'Python'), (2, 'sikit-learn'), (2, 'scipy'), (2, 'numpy'), (2, 'statsmodels'), (2, 'pandas'), (3, 'R'), (3, 'Python'), (3, 'statistics'), (3, 'regression'), (3, 'probability'), (4, 'machine learning'), (4, 'regression'), (4, 'decision trees'), (4, 'libsvm'), (5, 'Python'), (5, 'R'), (5, 'Java'), (5, 'C++'), (4, 'Haskell'), (5, 'programming languages'), (6, 'statistics'), (6, 'probability'), (6, 'mathematics'), (6, 'theory'), (7, 'machin learning'), (7, 'sikit-learn'), (7, 'Mahout'), (7, 'neural networks'), (8, 'neural networks'), (8, 'deep learning'), (8, 'Big Data'), (8, 'artificial intelligence'), (9, 'Hadoop'), (9, 'Java'), (9, 'MapReduce'), (9, 'Big Data')]\n"
     ]
    }
   ],
   "source": [
    "print(interests)"
   ]
  },
  {
   "cell_type": "code",
   "execution_count": 60,
   "id": "ca7f4696-ddf9-4da6-a10d-a88b4bac009b",
   "metadata": {},
   "outputs": [
    {
     "name": "stdout",
     "output_type": "stream",
     "text": [
      "big 3\n",
      "data 3\n",
      "java 3\n",
      "python 3\n",
      "learning 3\n",
      "hbase 2\n",
      "cassandra 2\n",
      "sikit-learn 2\n",
      "r 2\n",
      "statistics 2\n",
      "regression 2\n",
      "probability 2\n",
      "neural 2\n",
      "networks 2\n"
     ]
    }
   ],
   "source": [
    "# colocar todos os interesses em letra miniuscula para os comparar\n",
    "# Dividir em palavras\n",
    "# contar o resultado\n",
    "\n",
    "words_and_counts = Counter(word\n",
    "                           for user, interest in interests\n",
    "                           for word in interest.lower().split())\n",
    "# criar uma lista com as palavras mais comuns\n",
    "for word, count in words_and_counts.most_common():\n",
    "    if count > 1:\n",
    "        print(word, count)"
   ]
  },
  {
   "cell_type": "code",
   "execution_count": null,
   "id": "768e8730-8b50-45f0-8dd7-834d3f3f1f25",
   "metadata": {},
   "outputs": [],
   "source": []
  }
 ],
 "metadata": {
  "kernelspec": {
   "display_name": "Python 3 (ipykernel)",
   "language": "python",
   "name": "python3"
  },
  "language_info": {
   "codemirror_mode": {
    "name": "ipython",
    "version": 3
   },
   "file_extension": ".py",
   "mimetype": "text/x-python",
   "name": "python",
   "nbconvert_exporter": "python",
   "pygments_lexer": "ipython3",
   "version": "3.10.11"
  }
 },
 "nbformat": 4,
 "nbformat_minor": 5
}
